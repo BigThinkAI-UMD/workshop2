{
  "nbformat": 4,
  "nbformat_minor": 0,
  "metadata": {
    "colab": {
      "provenance": []
    },
    "kernelspec": {
      "name": "python3",
      "display_name": "Python 3"
    },
    "language_info": {
      "name": "python"
    },
    "widgets": {
      "application/vnd.jupyter.widget-state+json": {
        "da9c1785fdeb4344b37573c5a5485d3b": {
          "model_module": "@jupyter-widgets/controls",
          "model_name": "HBoxModel",
          "model_module_version": "1.5.0",
          "state": {
            "_dom_classes": [],
            "_model_module": "@jupyter-widgets/controls",
            "_model_module_version": "1.5.0",
            "_model_name": "HBoxModel",
            "_view_count": null,
            "_view_module": "@jupyter-widgets/controls",
            "_view_module_version": "1.5.0",
            "_view_name": "HBoxView",
            "box_style": "",
            "children": [
              "IPY_MODEL_77b0dfd0d12745c3ae4d90ac152a099b",
              "IPY_MODEL_88c533e9a5384dd2963b9ce040314c7b",
              "IPY_MODEL_fb573a74a30f43ec8f3374c219f73e85"
            ],
            "layout": "IPY_MODEL_aa8ff43251ad4d2ea939faeb159bc568"
          }
        },
        "77b0dfd0d12745c3ae4d90ac152a099b": {
          "model_module": "@jupyter-widgets/controls",
          "model_name": "HTMLModel",
          "model_module_version": "1.5.0",
          "state": {
            "_dom_classes": [],
            "_model_module": "@jupyter-widgets/controls",
            "_model_module_version": "1.5.0",
            "_model_name": "HTMLModel",
            "_view_count": null,
            "_view_module": "@jupyter-widgets/controls",
            "_view_module_version": "1.5.0",
            "_view_name": "HTMLView",
            "description": "",
            "description_tooltip": null,
            "layout": "IPY_MODEL_e9e954df9956492a991446411561e9ef",
            "placeholder": "​",
            "style": "IPY_MODEL_1b7db128152443e49f59dab3bde6db73",
            "value": "Dl Completed...: 100%"
          }
        },
        "88c533e9a5384dd2963b9ce040314c7b": {
          "model_module": "@jupyter-widgets/controls",
          "model_name": "FloatProgressModel",
          "model_module_version": "1.5.0",
          "state": {
            "_dom_classes": [],
            "_model_module": "@jupyter-widgets/controls",
            "_model_module_version": "1.5.0",
            "_model_name": "FloatProgressModel",
            "_view_count": null,
            "_view_module": "@jupyter-widgets/controls",
            "_view_module_version": "1.5.0",
            "_view_name": "ProgressView",
            "bar_style": "success",
            "description": "",
            "description_tooltip": null,
            "layout": "IPY_MODEL_78847ee617b748d9829df13084366a75",
            "max": 5,
            "min": 0,
            "orientation": "horizontal",
            "style": "IPY_MODEL_ba260d7d7a5245869ad4a508ee876aad",
            "value": 5
          }
        },
        "fb573a74a30f43ec8f3374c219f73e85": {
          "model_module": "@jupyter-widgets/controls",
          "model_name": "HTMLModel",
          "model_module_version": "1.5.0",
          "state": {
            "_dom_classes": [],
            "_model_module": "@jupyter-widgets/controls",
            "_model_module_version": "1.5.0",
            "_model_name": "HTMLModel",
            "_view_count": null,
            "_view_module": "@jupyter-widgets/controls",
            "_view_module_version": "1.5.0",
            "_view_name": "HTMLView",
            "description": "",
            "description_tooltip": null,
            "layout": "IPY_MODEL_ee430bf9ad0a49f3b0fbbe7082f14271",
            "placeholder": "​",
            "style": "IPY_MODEL_08182ab35e7846e4aa60d4a595fcee0b",
            "value": " 5/5 [00:01&lt;00:00, 12.05 file/s]"
          }
        },
        "aa8ff43251ad4d2ea939faeb159bc568": {
          "model_module": "@jupyter-widgets/base",
          "model_name": "LayoutModel",
          "model_module_version": "1.2.0",
          "state": {
            "_model_module": "@jupyter-widgets/base",
            "_model_module_version": "1.2.0",
            "_model_name": "LayoutModel",
            "_view_count": null,
            "_view_module": "@jupyter-widgets/base",
            "_view_module_version": "1.2.0",
            "_view_name": "LayoutView",
            "align_content": null,
            "align_items": null,
            "align_self": null,
            "border": null,
            "bottom": null,
            "display": null,
            "flex": null,
            "flex_flow": null,
            "grid_area": null,
            "grid_auto_columns": null,
            "grid_auto_flow": null,
            "grid_auto_rows": null,
            "grid_column": null,
            "grid_gap": null,
            "grid_row": null,
            "grid_template_areas": null,
            "grid_template_columns": null,
            "grid_template_rows": null,
            "height": null,
            "justify_content": null,
            "justify_items": null,
            "left": null,
            "margin": null,
            "max_height": null,
            "max_width": null,
            "min_height": null,
            "min_width": null,
            "object_fit": null,
            "object_position": null,
            "order": null,
            "overflow": null,
            "overflow_x": null,
            "overflow_y": null,
            "padding": null,
            "right": null,
            "top": null,
            "visibility": null,
            "width": null
          }
        },
        "e9e954df9956492a991446411561e9ef": {
          "model_module": "@jupyter-widgets/base",
          "model_name": "LayoutModel",
          "model_module_version": "1.2.0",
          "state": {
            "_model_module": "@jupyter-widgets/base",
            "_model_module_version": "1.2.0",
            "_model_name": "LayoutModel",
            "_view_count": null,
            "_view_module": "@jupyter-widgets/base",
            "_view_module_version": "1.2.0",
            "_view_name": "LayoutView",
            "align_content": null,
            "align_items": null,
            "align_self": null,
            "border": null,
            "bottom": null,
            "display": null,
            "flex": null,
            "flex_flow": null,
            "grid_area": null,
            "grid_auto_columns": null,
            "grid_auto_flow": null,
            "grid_auto_rows": null,
            "grid_column": null,
            "grid_gap": null,
            "grid_row": null,
            "grid_template_areas": null,
            "grid_template_columns": null,
            "grid_template_rows": null,
            "height": null,
            "justify_content": null,
            "justify_items": null,
            "left": null,
            "margin": null,
            "max_height": null,
            "max_width": null,
            "min_height": null,
            "min_width": null,
            "object_fit": null,
            "object_position": null,
            "order": null,
            "overflow": null,
            "overflow_x": null,
            "overflow_y": null,
            "padding": null,
            "right": null,
            "top": null,
            "visibility": null,
            "width": null
          }
        },
        "1b7db128152443e49f59dab3bde6db73": {
          "model_module": "@jupyter-widgets/controls",
          "model_name": "DescriptionStyleModel",
          "model_module_version": "1.5.0",
          "state": {
            "_model_module": "@jupyter-widgets/controls",
            "_model_module_version": "1.5.0",
            "_model_name": "DescriptionStyleModel",
            "_view_count": null,
            "_view_module": "@jupyter-widgets/base",
            "_view_module_version": "1.2.0",
            "_view_name": "StyleView",
            "description_width": ""
          }
        },
        "78847ee617b748d9829df13084366a75": {
          "model_module": "@jupyter-widgets/base",
          "model_name": "LayoutModel",
          "model_module_version": "1.2.0",
          "state": {
            "_model_module": "@jupyter-widgets/base",
            "_model_module_version": "1.2.0",
            "_model_name": "LayoutModel",
            "_view_count": null,
            "_view_module": "@jupyter-widgets/base",
            "_view_module_version": "1.2.0",
            "_view_name": "LayoutView",
            "align_content": null,
            "align_items": null,
            "align_self": null,
            "border": null,
            "bottom": null,
            "display": null,
            "flex": null,
            "flex_flow": null,
            "grid_area": null,
            "grid_auto_columns": null,
            "grid_auto_flow": null,
            "grid_auto_rows": null,
            "grid_column": null,
            "grid_gap": null,
            "grid_row": null,
            "grid_template_areas": null,
            "grid_template_columns": null,
            "grid_template_rows": null,
            "height": null,
            "justify_content": null,
            "justify_items": null,
            "left": null,
            "margin": null,
            "max_height": null,
            "max_width": null,
            "min_height": null,
            "min_width": null,
            "object_fit": null,
            "object_position": null,
            "order": null,
            "overflow": null,
            "overflow_x": null,
            "overflow_y": null,
            "padding": null,
            "right": null,
            "top": null,
            "visibility": null,
            "width": null
          }
        },
        "ba260d7d7a5245869ad4a508ee876aad": {
          "model_module": "@jupyter-widgets/controls",
          "model_name": "ProgressStyleModel",
          "model_module_version": "1.5.0",
          "state": {
            "_model_module": "@jupyter-widgets/controls",
            "_model_module_version": "1.5.0",
            "_model_name": "ProgressStyleModel",
            "_view_count": null,
            "_view_module": "@jupyter-widgets/base",
            "_view_module_version": "1.2.0",
            "_view_name": "StyleView",
            "bar_color": null,
            "description_width": ""
          }
        },
        "ee430bf9ad0a49f3b0fbbe7082f14271": {
          "model_module": "@jupyter-widgets/base",
          "model_name": "LayoutModel",
          "model_module_version": "1.2.0",
          "state": {
            "_model_module": "@jupyter-widgets/base",
            "_model_module_version": "1.2.0",
            "_model_name": "LayoutModel",
            "_view_count": null,
            "_view_module": "@jupyter-widgets/base",
            "_view_module_version": "1.2.0",
            "_view_name": "LayoutView",
            "align_content": null,
            "align_items": null,
            "align_self": null,
            "border": null,
            "bottom": null,
            "display": null,
            "flex": null,
            "flex_flow": null,
            "grid_area": null,
            "grid_auto_columns": null,
            "grid_auto_flow": null,
            "grid_auto_rows": null,
            "grid_column": null,
            "grid_gap": null,
            "grid_row": null,
            "grid_template_areas": null,
            "grid_template_columns": null,
            "grid_template_rows": null,
            "height": null,
            "justify_content": null,
            "justify_items": null,
            "left": null,
            "margin": null,
            "max_height": null,
            "max_width": null,
            "min_height": null,
            "min_width": null,
            "object_fit": null,
            "object_position": null,
            "order": null,
            "overflow": null,
            "overflow_x": null,
            "overflow_y": null,
            "padding": null,
            "right": null,
            "top": null,
            "visibility": null,
            "width": null
          }
        },
        "08182ab35e7846e4aa60d4a595fcee0b": {
          "model_module": "@jupyter-widgets/controls",
          "model_name": "DescriptionStyleModel",
          "model_module_version": "1.5.0",
          "state": {
            "_model_module": "@jupyter-widgets/controls",
            "_model_module_version": "1.5.0",
            "_model_name": "DescriptionStyleModel",
            "_view_count": null,
            "_view_module": "@jupyter-widgets/base",
            "_view_module_version": "1.2.0",
            "_view_name": "StyleView",
            "description_width": ""
          }
        }
      }
    }
  },
  "cells": [
    {
      "cell_type": "markdown",
      "source": [
        "First we will need to import tensorflow so that we can use it to train a machine learning model that can classify hand written digits.\n",
        "\n",
        "We will also import the tensorflow datasets library so that we can load our dataset.\n",
        "\n",
        "Finally, we import matplotlib, which we will use to display the images."
      ],
      "metadata": {
        "id": "5q6iPRSpP1sZ"
      }
    },
    {
      "cell_type": "code",
      "execution_count": 1,
      "metadata": {
        "id": "9QkuxIfSPcyD"
      },
      "outputs": [],
      "source": [
        "import tensorflow as tf\n",
        "import tensorflow_datasets as tfds\n",
        "\n",
        "import matplotlib.pyplot as plt\n",
        "import warnings\n",
        "warnings.filterwarnings(\"ignore\")"
      ]
    },
    {
      "cell_type": "markdown",
      "source": [
        "Let's load our data.\n",
        "\n",
        "We will use the function `tfds.load()` to get a nicely prepackaged and cleaned dataset. Let's take a look at the parameters we pass to this function.\n",
        "\n",
        "1. `'mnist`' - this downloads the MNIST dataset, which is the dataset we want. There are a lot of other datasets available but each of them require a different approach so we will focus on just mnist for today.\n",
        "2. `split=['train', 'test]` this splits our training data into two parts, a train set and a test set. The trainset has 60,000 examples and the test set has 10,000. This allows us to check our work\n",
        "3. `shuffle_files=True` will make sure we shuffle our data up. We don't want our nueral network to guess what digit it is looking at based on the previous number it looked at. If we didn't shuffle, the nueral network would just learn that if the last number it saw was a 5, for example, the next number must be 6, and so forth.\n",
        "4. `as_supervised=True` just makes the format of the data equivlant to a bunch of tuples of the form: `(image of digit, label of digit)`.\n",
        "5. `with_info` will grab some more info about the dataset for us to look at.\n",
        "\n",
        "\n",
        "\n",
        "Feel free to read up more about the MNIST dataset at this link: https://www.tensorflow.org/datasets/catalog/mnist or read more about it by running the cell below to see `dataset_info`."
      ],
      "metadata": {
        "id": "BD5cv3j5Qyxh"
      }
    },
    {
      "cell_type": "code",
      "source": [
        "(dataset_train, dataset_test), dataset_info = tfds.load(\n",
        "    'mnist',\n",
        "    split=['train', 'test'],\n",
        "    shuffle_files=True,\n",
        "    as_supervised=True,\n",
        "    with_info=True,\n",
        ")"
      ],
      "metadata": {
        "id": "cU7Ew7nvQCvx",
        "colab": {
          "base_uri": "https://localhost:8080/",
          "height": 84,
          "referenced_widgets": [
            "da9c1785fdeb4344b37573c5a5485d3b",
            "77b0dfd0d12745c3ae4d90ac152a099b",
            "88c533e9a5384dd2963b9ce040314c7b",
            "fb573a74a30f43ec8f3374c219f73e85",
            "aa8ff43251ad4d2ea939faeb159bc568",
            "e9e954df9956492a991446411561e9ef",
            "1b7db128152443e49f59dab3bde6db73",
            "78847ee617b748d9829df13084366a75",
            "ba260d7d7a5245869ad4a508ee876aad",
            "ee430bf9ad0a49f3b0fbbe7082f14271",
            "08182ab35e7846e4aa60d4a595fcee0b"
          ]
        },
        "outputId": "d86d0155-3045-49a2-9e5a-ee4242ee008a"
      },
      "execution_count": 2,
      "outputs": [
        {
          "output_type": "stream",
          "name": "stdout",
          "text": [
            "Downloading and preparing dataset 11.06 MiB (download: 11.06 MiB, generated: 21.00 MiB, total: 32.06 MiB) to /root/tensorflow_datasets/mnist/3.0.1...\n"
          ]
        },
        {
          "output_type": "display_data",
          "data": {
            "text/plain": [
              "Dl Completed...:   0%|          | 0/5 [00:00<?, ? file/s]"
            ],
            "application/vnd.jupyter.widget-view+json": {
              "version_major": 2,
              "version_minor": 0,
              "model_id": "da9c1785fdeb4344b37573c5a5485d3b"
            }
          },
          "metadata": {}
        },
        {
          "output_type": "stream",
          "name": "stdout",
          "text": [
            "Dataset mnist downloaded and prepared to /root/tensorflow_datasets/mnist/3.0.1. Subsequent calls will reuse this data.\n"
          ]
        }
      ]
    },
    {
      "cell_type": "code",
      "source": [
        "dataset_info"
      ],
      "metadata": {
        "colab": {
          "base_uri": "https://localhost:8080/"
        },
        "id": "PoVnA6WDYAgQ",
        "outputId": "92170c34-a750-4743-eb4e-f4653eef9249"
      },
      "execution_count": 3,
      "outputs": [
        {
          "output_type": "execute_result",
          "data": {
            "text/plain": [
              "tfds.core.DatasetInfo(\n",
              "    name='mnist',\n",
              "    full_name='mnist/3.0.1',\n",
              "    description=\"\"\"\n",
              "    The MNIST database of handwritten digits.\n",
              "    \"\"\",\n",
              "    homepage='http://yann.lecun.com/exdb/mnist/',\n",
              "    data_dir='/root/tensorflow_datasets/mnist/3.0.1.incompleteE6MXGZ',\n",
              "    file_format=tfrecord,\n",
              "    download_size=11.06 MiB,\n",
              "    dataset_size=21.00 MiB,\n",
              "    features=FeaturesDict({\n",
              "        'image': Image(shape=(28, 28, 1), dtype=uint8),\n",
              "        'label': ClassLabel(shape=(), dtype=int64, num_classes=10),\n",
              "    }),\n",
              "    supervised_keys=('image', 'label'),\n",
              "    disable_shuffling=False,\n",
              "    splits={\n",
              "        'test': <SplitInfo num_examples=10000, num_shards=1>,\n",
              "        'train': <SplitInfo num_examples=60000, num_shards=1>,\n",
              "    },\n",
              "    citation=\"\"\"@article{lecun2010mnist,\n",
              "      title={MNIST handwritten digit database},\n",
              "      author={LeCun, Yann and Cortes, Corinna and Burges, CJ},\n",
              "      journal={ATT Labs [Online]. Available: http://yann.lecun.com/exdb/mnist},\n",
              "      volume={2},\n",
              "      year={2010}\n",
              "    }\"\"\",\n",
              ")"
            ]
          },
          "metadata": {},
          "execution_count": 3
        }
      ]
    },
    {
      "cell_type": "markdown",
      "source": [
        "Next we are going to prepare our dataset so that we can use it to train our model.\n",
        "\n",
        "Let's first take a look at the first example in our dataset.\n",
        "The first element is a tuple, with two elements as you can see in the code cell below."
      ],
      "metadata": {
        "id": "X7YEXYfEUlB9"
      }
    },
    {
      "cell_type": "code",
      "source": [
        "for x in dataset_train:\n",
        "    img, label = x\n",
        "    plt.imshow(img[:,:,0], cmap='gray')\n",
        "\n",
        "    print(\"Each element in our dataset is of type:\", type(x))\n",
        "    print(\"The label of this element is:\", label)\n",
        "    print(\"The shape of this image is:\", img.shape)\n",
        "\n",
        "    break"
      ],
      "metadata": {
        "colab": {
          "base_uri": "https://localhost:8080/",
          "height": 482
        },
        "id": "y3Z7kjQjU_hU",
        "outputId": "87ea8897-a1c9-4ee3-a09a-761170c16798"
      },
      "execution_count": 4,
      "outputs": [
        {
          "output_type": "stream",
          "name": "stdout",
          "text": [
            "Each element in our dataset is of type: <class 'tuple'>\n",
            "The label of this element is: tf.Tensor(4, shape=(), dtype=int64)\n",
            "The shape of this image is: (28, 28, 1)\n"
          ]
        },
        {
          "output_type": "display_data",
          "data": {
            "text/plain": [
              "<Figure size 640x480 with 1 Axes>"
            ],
            "image/png": "[encoded data removed]"
          },
          "metadata": {}
        }
      ]
    },
    {
      "cell_type": "markdown",
      "source": [
        "First we need to convert the data type of the images from unsigned 8-bit integers to 32-bit float. This is because the nueral network we will use expects 32-bit floats.\n",
        "\n",
        "Next we will devide the images by 255 because that will keep all the values in the image between 0 and 1 rather than between 0 and 255.\n",
        "Having smaller values allows training to go faster.\n",
        "\n",
        "We also batch our data. This means we split our 60,000 training examples into batches or groups of 128 examples and train on those. This allows our model to view 128 different images and their labels at once and learn from them all at the same time. This means it will be almost 128x as fast to train!"
      ],
      "metadata": {
        "id": "0I0x8OACXR3e"
      }
    },
    {
      "cell_type": "code",
      "source": [
        "def normalize_img(image, label):\n",
        "    \"\"\"Normalizes images from unsigned 8-bit integers to 32-bit float.\n",
        "    Also scales all values to be between 0 and 1 rather than 0 and 255.\"\"\"\n",
        "    image = tf.cast(image, tf.float32)\n",
        "\n",
        "    # rescale the image to be between 0 and 1 by dividing it by 255\n",
        "    image = image / 255 # DO THIS TO SPEED UP TRAINING PROCESS SINCE SMALLER NUMBER SIZES\n",
        "\n",
        "    return image, label\n",
        "\n",
        "# apply our normalization function to our dataset\n",
        "dataset_train = dataset_train.map(normalize_img)\n",
        "\n",
        "# next we shuffle up our training data again\n",
        "dataset_train = dataset_train.shuffle(dataset_info.splits['train'].num_examples)\n",
        "\n",
        "# finally we batch our data to allow us to train faster\n",
        "dataset_train = dataset_train.batch(128)\n",
        "\n",
        "\n",
        "# do the same for our testing data. Make sure to normalize it and to batch it only\n",
        "# no need to shuffle.\n",
        "dataset_test = dataset_test.map(normalize_img)\n",
        "dataset_test = dataset_test.batch(128)"
      ],
      "metadata": {
        "id": "tEb2CDLVSjoy"
      },
      "execution_count": 5,
      "outputs": []
    },
    {
      "cell_type": "markdown",
      "source": [
        "Time to make our model, the fun part!\n",
        "\n",
        "Our model is sequential. This means that data only flows one way. In other words, the model guesses what the image but its current guess doesn't affect its next guess.\n",
        "\n",
        "Next, we flatten the input to the model. This means we take our image that is 28 by 28 pixels and convert it to one long list that is 784 (28 x 28) long.\n",
        "\n",
        "Then we take that 784 long list and use that as input to our first dense, or fully connected layer. This layer has 128 nuerons, hence the 128. The relu activation is a function. Feel free to read more about it [here](https://en.wikipedia.org/wiki/Rectifier_(neural_networks)).\n",
        "\n",
        "Finally, we have one more dense layer which has 10 nuerons. This is our output layer. Each of these neurons in the output layer represent how likely a digit (numbered 0 through 9) is to be the number written in the input image. In other words, if the 0th nueron is the largest number, then 0 is the digit the model guesses is in the image."
      ],
      "metadata": {
        "id": "TO3I6w_SZfgU"
      }
    },
    {
      "cell_type": "code",
      "source": [
        "# You can create your own model by changing the numbers of neurons, adding more layers, and using different acitvation functions.\n",
        "# play around with it and see what accuracy you can acheieve in the next steps!\n",
        "\n",
        "model = tf.keras.models.Sequential([\n",
        "  tf.keras.layers.Flatten(input_shape=(28, 28)),\n",
        "  tf.keras.layers.Dense(128, activation='relu'),\n",
        "  tf.keras.layers.Dense(10)\n",
        "])"
      ],
      "metadata": {
        "id": "QYVABpEWX8nx"
      },
      "execution_count": 6,
      "outputs": []
    },
    {
      "cell_type": "markdown",
      "source": [
        "Now we will compile our model, which allows us to actually train our model.\n",
        "\n",
        "The optimizer is what looks at how accurate our model is and modifies the weights and biases to make our model more accurate. The loss parameter is a function that determines how inaccurate our model is on each prediction. The optimizer uses this value from the loss function to make tweaks."
      ],
      "metadata": {
        "id": "n41Mm7-AoHlR"
      }
    },
    {
      "cell_type": "code",
      "source": [
        "model.compile(\n",
        "    optimizer=tf.keras.optimizers.Adam(0.001),\n",
        "    loss=tf.keras.losses.SparseCategoricalCrossentropy(from_logits=True),\n",
        "    metrics=[\"accuracy\"]\n",
        ")"
      ],
      "metadata": {
        "id": "DSu54o3UZxxG"
      },
      "execution_count": 7,
      "outputs": []
    },
    {
      "cell_type": "markdown",
      "source": [
        "Let's check to see how accurate it is before we even start training. We can expect it to be somwhere around 10% accurate because there are 10 possible digits and the intial values in the model are assigned randomly.\n",
        "\n",
        "If you run the last few cells a few different times you will notice your accuracy is different everytime depending on what random values the model starts with."
      ],
      "metadata": {
        "id": "w21NQLCdsYZd"
      }
    },
    {
      "cell_type": "code",
      "source": [
        "results = model.evaluate(dataset_train)\n",
        "print(\"Our training loss and accuracy:\", results)\n",
        "\n",
        "results = model.evaluate(dataset_test)\n",
        "print(\"Our testing loss and accuracy:\", results)"
      ],
      "metadata": {
        "colab": {
          "base_uri": "https://localhost:8080/"
        },
        "id": "-PJkX81nsOem",
        "outputId": "f7707d26-09a5-4853-a10f-3de06623f5fa"
      },
      "execution_count": 8,
      "outputs": [
        {
          "output_type": "stream",
          "name": "stdout",
          "text": [
            "469/469 [==============================] - 17s 7ms/step - loss: 2.3955 - accuracy: 0.0895\n",
            "Our training loss and accuracy: [2.3954639434814453, 0.0894833356142044]\n",
            "79/79 [==============================] - 2s 17ms/step - loss: 2.4038 - accuracy: 0.0823\n",
            "Our testing loss and accuracy: [2.4038474559783936, 0.08229999989271164]\n"
          ]
        }
      ]
    },
    {
      "cell_type": "markdown",
      "source": [
        "Finally, we can train our model. We will train it on our training dataset and we will check to see how accurate we are after each epoch using our testing dataset. It is important to remember that we only use the values in the training dataset to make improvements to our model and we will only use the testing dataset to see our accuracy.\n",
        "\n",
        "Each epoch is one complete use of the entire dataset to train. We will train on the entire dataset 8 times, after which we have acheieved a very high accuracy."
      ],
      "metadata": {
        "id": "yL6odLswo03v"
      }
    },
    {
      "cell_type": "code",
      "source": [
        "history = model.fit(\n",
        "    # which dataset should we use to train?\n",
        "    dataset_train,\n",
        "\n",
        "    epochs=8,\n",
        "    validation_data=dataset_test,\n",
        ")"
      ],
      "metadata": {
        "colab": {
          "base_uri": "https://localhost:8080/"
        },
        "id": "VYrK4XftZx5R",
        "outputId": "1405c728-f86a-4235-90cc-f3736c4bca30"
      },
      "execution_count": 9,
      "outputs": [
        {
          "output_type": "stream",
          "name": "stdout",
          "text": [
            "Epoch 1/8\n",
            "469/469 [==============================] - 6s 5ms/step - loss: 0.3505 - accuracy: 0.9046 - val_loss: 0.1915 - val_accuracy: 0.9453\n",
            "Epoch 2/8\n",
            "469/469 [==============================] - 5s 5ms/step - loss: 0.1628 - accuracy: 0.9532 - val_loss: 0.1328 - val_accuracy: 0.9600\n",
            "Epoch 3/8\n",
            "469/469 [==============================] - 5s 5ms/step - loss: 0.1176 - accuracy: 0.9665 - val_loss: 0.1129 - val_accuracy: 0.9652\n",
            "Epoch 4/8\n",
            "469/469 [==============================] - 6s 7ms/step - loss: 0.0929 - accuracy: 0.9732 - val_loss: 0.0938 - val_accuracy: 0.9713\n",
            "Epoch 5/8\n",
            "469/469 [==============================] - 5s 5ms/step - loss: 0.0751 - accuracy: 0.9782 - val_loss: 0.0956 - val_accuracy: 0.9709\n",
            "Epoch 6/8\n",
            "469/469 [==============================] - 5s 5ms/step - loss: 0.0626 - accuracy: 0.9817 - val_loss: 0.0830 - val_accuracy: 0.9748\n",
            "Epoch 7/8\n",
            "469/469 [==============================] - 5s 5ms/step - loss: 0.0520 - accuracy: 0.9851 - val_loss: 0.0808 - val_accuracy: 0.9750\n",
            "Epoch 8/8\n",
            "469/469 [==============================] - 5s 6ms/step - loss: 0.0443 - accuracy: 0.9874 - val_loss: 0.0805 - val_accuracy: 0.9745\n"
          ]
        }
      ]
    },
    {
      "cell_type": "markdown",
      "source": [
        "Can you guess why the accuracy from our training dataset is high than our testing dataset accuracy?"
      ],
      "metadata": {
        "id": "oQpoJG9appLv"
      }
    },
    {
      "cell_type": "code",
      "source": [
        "results = model.evaluate(dataset_train)\n",
        "print(\"Our training loss and accuracy:\", results)\n",
        "\n",
        "results = model.evaluate(dataset_test)\n",
        "print(\"Our testing loss and accuracy:\", results)"
      ],
      "metadata": {
        "colab": {
          "base_uri": "https://localhost:8080/"
        },
        "id": "vmdm1cmCpsN0",
        "outputId": "e966eb95-f321-45de-9c92-dc65d0b168a7"
      },
      "execution_count": 10,
      "outputs": [
        {
          "output_type": "stream",
          "name": "stdout",
          "text": [
            "469/469 [==============================] - 3s 2ms/step - loss: 0.0357 - accuracy: 0.9904\n",
            "Our training loss and accuracy: [0.035675521939992905, 0.9904000163078308]\n",
            "79/79 [==============================] - 1s 8ms/step - loss: 0.0805 - accuracy: 0.9745\n",
            "Our testing loss and accuracy: [0.08050066232681274, 0.9745000004768372]\n"
          ]
        }
      ]
    },
    {
      "cell_type": "markdown",
      "source": [
        "Now let's graph the history of the accuracy over each of the epochs.\n",
        "\n",
        "As you can see, our accuracy improves overtime, as does the validation accuracy.\n",
        "Even though our accuracy was only arround 10% before we started training, by the end of the 0th epoch, we already got to 90% accuracy."
      ],
      "metadata": {
        "id": "XcQc68jFxOMQ"
      }
    },
    {
      "cell_type": "code",
      "source": [
        "plt.plot(history.history['accuracy'])\n",
        "plt.plot(history.history['val_accuracy'])\n",
        "plt.title('model accuracy')\n",
        "plt.ylabel('accuracy')\n",
        "plt.xlabel('epoch')\n",
        "plt.legend(['train', 'val'], loc='best')\n",
        "plt.show()"
      ],
      "metadata": {
        "colab": {
          "base_uri": "https://localhost:8080/",
          "height": 472
        },
        "id": "hr4EAekMqiiL",
        "outputId": "12b2b85b-5aec-499b-81b5-9d6002b17b69"
      },
      "execution_count": 11,
      "outputs": [
        {
          "output_type": "display_data",
          "data": {
            "text/plain": [
              "<Figure size 640x480 with 1 Axes>"
            ],
            "image/png": "[encoded data removed]"
          },
          "metadata": {}
        }
      ]
    },
    {
      "cell_type": "markdown",
      "source": [
        "Now let's use our model to make predictions on our test set and display them.\n",
        "\n",
        "\n",
        "To do so, we first unbatch our test dataset so we only grab a random sample of 1 image and label at a time instead of 128 of them.\n",
        "\n",
        "Next we use the model to make a prediction on the image. We can print out that prediction but it isn't very useful to us humans yet. We need to first take the arg-max, or the index position of the maximum value of the prediction."
      ],
      "metadata": {
        "id": "fWwCquzvsycN"
      }
    },
    {
      "cell_type": "code",
      "source": [
        "dataset_test = dataset_test.unbatch()\n",
        "dataset_test = dataset_test.shuffle(buffer_size=dataset_info.splits['test'].num_examples)"
      ],
      "metadata": {
        "id": "gp5ta8UJaUiJ"
      },
      "execution_count": 12,
      "outputs": []
    },
    {
      "cell_type": "markdown",
      "source": [
        "Feel free to run this as many times as you want to see different images and the model's predictions.\n",
        "Are there times when the model does better than you, or when you do better than it?\n"
      ],
      "metadata": {
        "id": "_EwIqSd4waf7"
      }
    },
    {
      "cell_type": "code",
      "source": [
        "def random_prediction():\n",
        "    img, label = list(dataset_test.take(1))[0]\n",
        "    img = tf.reshape(img, (-1, 28, 28, 1))\n",
        "    print(img.shape, label.shape)\n",
        "\n",
        "    prediction = model.predict(img)\n",
        "    print(\"This is the prediction without it being processed first:\\n\", prediction)\n",
        "\n",
        "    processed_prediction = tf.math.argmax(prediction[0])\n",
        "\n",
        "    print(\"\\nThe model's prediction for the image:\", int(processed_prediction))\n",
        "    print(\"The actual label:\", int(label))\n",
        "    plt.imshow(img[0,:,:,0], cmap=\"gray\")\n",
        "\n",
        "\n",
        "random_prediction()"
      ],
      "metadata": {
        "colab": {
          "base_uri": "https://localhost:8080/",
          "height": 569
        },
        "id": "poIfa55JtOjH",
        "outputId": "dc01269b-da5d-4dd3-f2c0-705102e544d1"
      },
      "execution_count": 13,
      "outputs": [
        {
          "output_type": "stream",
          "name": "stdout",
          "text": [
            "(1, 28, 28, 1) ()\n",
            "1/1 [==============================] - 0s 143ms/step\n",
            "This is the prediction without it being processed first:\n",
            " [[-4.950091   5.6661735 -1.0077937 -3.492001  -2.588607  -3.3601706\n",
            "  -4.0397763 -0.712665  -2.0931363 -3.8121076]]\n",
            "\n",
            "The model's prediction for the image: 1\n",
            "The actual label: 1\n"
          ]
        },
        {
          "output_type": "display_data",
          "data": {
            "text/plain": [
              "<Figure size 640x480 with 1 Axes>"
            ],
            "image/png": "[encoded data removed]"
          },
          "metadata": {}
        }
      ]
    },
    {
      "cell_type": "code",
      "source": [],
      "metadata": {
        "id": "zlE32dbbvRIj"
      },
      "execution_count": 13,
      "outputs": []
    }
  ]
}
